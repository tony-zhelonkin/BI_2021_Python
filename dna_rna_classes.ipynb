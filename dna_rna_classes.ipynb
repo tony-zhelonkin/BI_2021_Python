{
 "cells": [
  {
   "cell_type": "markdown",
   "id": "3ac92ef6-15cb-4b46-8bc7-75107cfc3771",
   "metadata": {},
   "source": [
    "# Домашка \"ДНК/РНК классы\""
   ]
  },
  {
   "cell_type": "markdown",
   "id": "28912133-65a6-42a6-baa2-f4a03c15d4a0",
   "metadata": {},
   "source": [
    "Создать классы Dna и Rna, объекты которых обладают следующими свойствами:\n",
    "\n",
    "* Могут быть инициализированы строкой, соответствующей последовательности ДНК/РНК\n",
    "* Позволяют определить долю GC нуклеотдиов в последовательности с помощью метода gc_content\n",
    "* Позволяют создать комплементарную последовательность с помощью метода reverse_complement\n",
    "* Позволяют итерироваться по последовательности\n",
    "* Объекты с одинаковыми последовательностями должны быть равны (так как про __eq__ мы поговорить не успели еще, по собственному желанию)\n",
    "* Их можно добавлять в множества (так как про __hash__ мы поговорить не успели еще, по собственному желанию)\n",
    "\n",
    "\n",
    "Объекты класса Dna дополнительно имеют метод transcribe позволяющий создавать объект класса Rna, соответствующий результату транскрипции последовательности."
   ]
  },
  {
   "cell_type": "code",
   "execution_count": null,
   "id": "a1ff6ee0-01b7-4263-bbe2-84265e20a4f7",
   "metadata": {},
   "outputs": [],
   "source": [
    "import re"
   ]
  },
  {
   "cell_type": "code",
   "execution_count": 138,
   "id": "b0384ae6-9308-48fa-b053-6061a359d6a4",
   "metadata": {},
   "outputs": [],
   "source": [
    "class Rna:\n",
    "    def __init__(self, sequence: str):\n",
    "        self.sequence = sequence.upper()\n",
    "        self.is_rna()\n",
    "    \n",
    "    # check if is rna\n",
    "    def is_rna(self):\n",
    "        non_rna_bases = r'[^AUGC]'\n",
    "        if re.search(non_rna_bases, self.sequence):\n",
    "            print(\"Non RNA bases present. Only RNA bases AUGC (case-insensitive) are allowed.\")\n",
    "    \n",
    "    # gc-content\n",
    "    def gc_content(self):\n",
    "        counter = 0\n",
    "        for base in self.sequence:\n",
    "            if base in \"GgCc\":\n",
    "                counter += 1\n",
    "        gc_percent = counter / len(self.sequence) * 100\n",
    "        return gc_percent\n",
    "\n",
    "    # create reverse\n",
    "    def reverse_complement(self):\n",
    "        rna_dict = {'A': 'U',\n",
    "                    'U': 'A',\n",
    "                    'G': 'C',\n",
    "                    'C': 'G'}\n",
    "        reverse_complement_seq = ''\n",
    "        reverse_seq = reversed(self.sequence)\n",
    "        for base in reverse_seq:\n",
    "            reverse_complement_seq += rna_dict[base]\n",
    "        return reverse_complement_seq\n",
    "\n",
    "    # iterable\n",
    "    def __iter__(self):\n",
    "        return iter(self.sequence)"
   ]
  },
  {
   "cell_type": "code",
   "execution_count": 139,
   "id": "dbf775c8-17c6-4dce-a56e-4631a58f56f1",
   "metadata": {},
   "outputs": [],
   "source": [
    "rna_test = Rna(\"augCCCUUccc\")"
   ]
  },
  {
   "cell_type": "code",
   "execution_count": 55,
   "id": "e1f6afd6-a873-4a40-8540-39bf3f43ed27",
   "metadata": {},
   "outputs": [
    {
     "name": "stdout",
     "output_type": "stream",
     "text": [
      "63.63636363636363\n"
     ]
    }
   ],
   "source": [
    "print(rna_test.gc_content())"
   ]
  },
  {
   "cell_type": "code",
   "execution_count": 140,
   "id": "78fbc1d0-4e57-4eaf-8b3a-7e974a76d605",
   "metadata": {},
   "outputs": [
    {
     "name": "stdout",
     "output_type": "stream",
     "text": [
      "GGGAAGGGCAU\n"
     ]
    }
   ],
   "source": [
    "print(rna_test.reverse_complement())"
   ]
  },
  {
   "cell_type": "code",
   "execution_count": 146,
   "id": "72399ffe-9454-4c5e-9268-27e775c987dc",
   "metadata": {},
   "outputs": [],
   "source": [
    "class Dna:\n",
    "    # initialise class\n",
    "    def __init__(self, sequence: str):\n",
    "        self.sequence = sequence.upper()\n",
    "        self.is_dna()\n",
    "        \n",
    "    # check if correct bases are used for DNA\n",
    "    def is_dna(self):\n",
    "        non_dna_bases = r'[^ATGC]'\n",
    "        if re.search(non_dna_bases, self.sequence.upper()):\n",
    "            print(\"Non DNA bases present. Only DNA bases ATGC (case-insensitive) are allowed\")\n",
    "    \n",
    "    # check GC-content\n",
    "    def gc_content(self):\n",
    "        counter = 0\n",
    "        for base in self.sequence:\n",
    "            if base in \"GgCc\":\n",
    "                counter += 1\n",
    "        gc_percent = counter / len(self.sequence) * 100\n",
    "        return gc_percent\n",
    "    \n",
    "    # create reverse complement sequence\n",
    "    def reverse_complement(self):\n",
    "        dna_dict = {'A': 'T',\n",
    "                    'T': 'A',\n",
    "                    'G': 'C',\n",
    "                    'C': 'G'}\n",
    "        reverse_complement_seq = ''\n",
    "        reverse_seq = reversed(self.sequence)\n",
    "        for base in reverse_seq:\n",
    "            reverse_complement_seq += dna_dict[base]\n",
    "        return reverse_complement_seq\n",
    "    \n",
    "    # transcribe method\n",
    "    def transcribe(self):\n",
    "        rna_reversed = Rna.reverse_complement(self)\n",
    "        return rna_reversed.replace('T','U')\n",
    "     \n",
    "                \n",
    "    # iterable\n",
    "    def __iter__(self):\n",
    "        return iter(self.sequence)"
   ]
  },
  {
   "cell_type": "code",
   "execution_count": 147,
   "id": "2892b0a2-7abc-4c78-8551-8eb1c7317902",
   "metadata": {},
   "outputs": [],
   "source": [
    "dna_test = Dna(\"atgCCCttccc\")"
   ]
  },
  {
   "cell_type": "code",
   "execution_count": 148,
   "id": "11f6f667-1fc7-4ef1-b220-aaf754a87686",
   "metadata": {},
   "outputs": [
    {
     "name": "stdout",
     "output_type": "stream",
     "text": [
      "63.63636363636363\n"
     ]
    }
   ],
   "source": [
    "print(dna_test.gc_content())"
   ]
  },
  {
   "cell_type": "code",
   "execution_count": 149,
   "id": "42825167-6f89-4bd8-9152-c5fd378c9c84",
   "metadata": {},
   "outputs": [
    {
     "name": "stdout",
     "output_type": "stream",
     "text": [
      "GGGAAGGGCAT\n"
     ]
    }
   ],
   "source": [
    "print(dna_test.reverse_complement())"
   ]
  },
  {
   "cell_type": "code",
   "execution_count": 150,
   "id": "35b75cf9-8b94-4582-8ee0-569282dec743",
   "metadata": {},
   "outputs": [
    {
     "ename": "KeyError",
     "evalue": "'T'",
     "output_type": "error",
     "traceback": [
      "\u001b[0;31m---------------------------------------------------------------------------\u001b[0m",
      "\u001b[0;31mKeyError\u001b[0m                                  Traceback (most recent call last)",
      "\u001b[0;32m/tmp/ipykernel_6271/3521756444.py\u001b[0m in \u001b[0;36m<module>\u001b[0;34m\u001b[0m\n\u001b[0;32m----> 1\u001b[0;31m \u001b[0mprint\u001b[0m\u001b[0;34m(\u001b[0m\u001b[0mdna_test\u001b[0m\u001b[0;34m.\u001b[0m\u001b[0mtranscribe\u001b[0m\u001b[0;34m(\u001b[0m\u001b[0;34m)\u001b[0m\u001b[0;34m)\u001b[0m\u001b[0;34m\u001b[0m\u001b[0;34m\u001b[0m\u001b[0m\n\u001b[0m",
      "\u001b[0;32m/tmp/ipykernel_6271/845201008.py\u001b[0m in \u001b[0;36mtranscribe\u001b[0;34m(self)\u001b[0m\n\u001b[1;32m     34\u001b[0m     \u001b[0;31m# transcribe method\u001b[0m\u001b[0;34m\u001b[0m\u001b[0;34m\u001b[0m\u001b[0;34m\u001b[0m\u001b[0m\n\u001b[1;32m     35\u001b[0m     \u001b[0;32mdef\u001b[0m \u001b[0mtranscribe\u001b[0m\u001b[0;34m(\u001b[0m\u001b[0mself\u001b[0m\u001b[0;34m)\u001b[0m\u001b[0;34m:\u001b[0m\u001b[0;34m\u001b[0m\u001b[0;34m\u001b[0m\u001b[0m\n\u001b[0;32m---> 36\u001b[0;31m         \u001b[0mrna_reversed\u001b[0m \u001b[0;34m=\u001b[0m \u001b[0mRna\u001b[0m\u001b[0;34m.\u001b[0m\u001b[0mreverse_complement\u001b[0m\u001b[0;34m(\u001b[0m\u001b[0mself\u001b[0m\u001b[0;34m)\u001b[0m\u001b[0;34m\u001b[0m\u001b[0;34m\u001b[0m\u001b[0m\n\u001b[0m\u001b[1;32m     37\u001b[0m         \u001b[0;32mreturn\u001b[0m \u001b[0mrna_reversed\u001b[0m\u001b[0;34m.\u001b[0m\u001b[0mreplace\u001b[0m\u001b[0;34m(\u001b[0m\u001b[0;34m'T'\u001b[0m\u001b[0;34m,\u001b[0m\u001b[0;34m'U'\u001b[0m\u001b[0;34m)\u001b[0m\u001b[0;34m\u001b[0m\u001b[0;34m\u001b[0m\u001b[0m\n\u001b[1;32m     38\u001b[0m \u001b[0;34m\u001b[0m\u001b[0m\n",
      "\u001b[0;32m/tmp/ipykernel_6271/615304354.py\u001b[0m in \u001b[0;36mreverse_complement\u001b[0;34m(self)\u001b[0m\n\u001b[1;32m     28\u001b[0m         \u001b[0mreverse_seq\u001b[0m \u001b[0;34m=\u001b[0m \u001b[0mreversed\u001b[0m\u001b[0;34m(\u001b[0m\u001b[0mself\u001b[0m\u001b[0;34m.\u001b[0m\u001b[0msequence\u001b[0m\u001b[0;34m)\u001b[0m\u001b[0;34m\u001b[0m\u001b[0;34m\u001b[0m\u001b[0m\n\u001b[1;32m     29\u001b[0m         \u001b[0;32mfor\u001b[0m \u001b[0mbase\u001b[0m \u001b[0;32min\u001b[0m \u001b[0mreverse_seq\u001b[0m\u001b[0;34m:\u001b[0m\u001b[0;34m\u001b[0m\u001b[0;34m\u001b[0m\u001b[0m\n\u001b[0;32m---> 30\u001b[0;31m             \u001b[0mreverse_complement_seq\u001b[0m \u001b[0;34m+=\u001b[0m \u001b[0mrna_dict\u001b[0m\u001b[0;34m[\u001b[0m\u001b[0mbase\u001b[0m\u001b[0;34m]\u001b[0m\u001b[0;34m\u001b[0m\u001b[0;34m\u001b[0m\u001b[0m\n\u001b[0m\u001b[1;32m     31\u001b[0m         \u001b[0;32mreturn\u001b[0m \u001b[0mreverse_complement_seq\u001b[0m\u001b[0;34m\u001b[0m\u001b[0;34m\u001b[0m\u001b[0m\n\u001b[1;32m     32\u001b[0m \u001b[0;34m\u001b[0m\u001b[0m\n",
      "\u001b[0;31mKeyError\u001b[0m: 'T'"
     ]
    }
   ],
   "source": [
    "print(dna_test.transcribe())"
   ]
  }
 ],
 "metadata": {
  "kernelspec": {
   "display_name": "Python 3 (ipykernel)",
   "language": "python",
   "name": "python3"
  },
  "language_info": {
   "codemirror_mode": {
    "name": "ipython",
    "version": 3
   },
   "file_extension": ".py",
   "mimetype": "text/x-python",
   "name": "python",
   "nbconvert_exporter": "python",
   "pygments_lexer": "ipython3",
   "version": "3.9.5"
  }
 },
 "nbformat": 4,
 "nbformat_minor": 5
}
